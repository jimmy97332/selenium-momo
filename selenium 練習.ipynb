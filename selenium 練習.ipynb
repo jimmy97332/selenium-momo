{
 "cells": [
  {
   "cell_type": "code",
   "execution_count": 1,
   "metadata": {
    "scrolled": true
   },
   "outputs": [],
   "source": [
    "from selenium import webdriver\n",
    "driver = webdriver.Chrome('C:/Users/user/chromedriver')"
   ]
  },
  {
   "cell_type": "code",
   "execution_count": 2,
   "metadata": {},
   "outputs": [],
   "source": [
    "driver.get('https://momoshop.com.tw')"
   ]
  },
  {
   "cell_type": "markdown",
   "metadata": {},
   "source": [
    "把cookie存起來"
   ]
  },
  {
   "cell_type": "code",
   "execution_count": 3,
   "metadata": {},
   "outputs": [],
   "source": [
    "import json\n",
    "cookie = driver.get_cookies()\n",
    "with open('momo.json', 'w') as f:\n",
    "    f.write(json.dumps(cookie))"
   ]
  },
  {
   "cell_type": "code",
   "execution_count": null,
   "metadata": {},
   "outputs": [],
   "source": [
    "打開cookie"
   ]
  },
  {
   "cell_type": "code",
   "execution_count": 4,
   "metadata": {},
   "outputs": [],
   "source": [
    "with open('momo.json', 'r') as f:\n",
    "    data = json.loads(f.read())"
   ]
  },
  {
   "cell_type": "code",
   "execution_count": 5,
   "metadata": {},
   "outputs": [
    {
     "data": {
      "text/plain": [
       "[{'domain': '.momoshop.com.tw',\n",
       "  'expiry': 1628914909,\n",
       "  'httpOnly': False,\n",
       "  'name': '_mwa_uniSessionInfo',\n",
       "  'path': '/',\n",
       "  'secure': False,\n",
       "  'value': '1628913109143494987.1628913109143.1.1628913109143'},\n",
       " {'domain': '.momoshop.com.tw',\n",
       "  'expiry': 1644465109,\n",
       "  'httpOnly': False,\n",
       "  'name': '_mwa_uniCampaignInfo',\n",
       "  'path': '/',\n",
       "  'secure': False,\n",
       "  'value': '1628913109143163364.1628913109143'},\n",
       " {'domain': '.momoshop.com.tw',\n",
       "  'expiry': 1628913169,\n",
       "  'httpOnly': False,\n",
       "  'name': '_gat',\n",
       "  'path': '/',\n",
       "  'secure': False,\n",
       "  'value': '1'},\n",
       " {'domain': '.momoshop.com.tw',\n",
       "  'expiry': 1628999509,\n",
       "  'httpOnly': False,\n",
       "  'name': '_gid',\n",
       "  'path': '/',\n",
       "  'secure': False,\n",
       "  'value': 'GA1.3.431320453.1628913109'},\n",
       " {'domain': '.momoshop.com.tw',\n",
       "  'expiry': 1691985109,\n",
       "  'httpOnly': False,\n",
       "  'name': '_ga',\n",
       "  'path': '/',\n",
       "  'secure': False,\n",
       "  'value': 'GA1.3.1012338998.1628913109'},\n",
       " {'domain': '.momoshop.com.tw',\n",
       "  'expiry': 1691985109,\n",
       "  'httpOnly': False,\n",
       "  'name': '_mwa_uniVisitorInfo',\n",
       "  'path': '/',\n",
       "  'secure': False,\n",
       "  'value': '1628913109142882876.1628913109142.1.1628913109143'},\n",
       " {'domain': '.momoshop.com.tw',\n",
       "  'expiry': 1660535509,\n",
       "  'httpOnly': False,\n",
       "  'name': '__auc',\n",
       "  'path': '/',\n",
       "  'secure': False,\n",
       "  'value': 'eb3dfd8b17b42c988824a4190ba'},\n",
       " {'domain': '.momoshop.com.tw',\n",
       "  'expiry': 1628914909,\n",
       "  'httpOnly': False,\n",
       "  'name': '__asc',\n",
       "  'path': '/',\n",
       "  'secure': False,\n",
       "  'value': 'eb3dfd8b17b42c988824a4190ba'},\n",
       " {'domain': 'www.momoshop.com.tw',\n",
       "  'httpOnly': False,\n",
       "  'name': 'wshop',\n",
       "  'path': '/',\n",
       "  'secure': False,\n",
       "  'value': 'wshop_web_c_10'},\n",
       " {'domain': 'www.momoshop.com.tw',\n",
       "  'httpOnly': True,\n",
       "  'name': 'JSESSIONID',\n",
       "  'path': '/',\n",
       "  'secure': True,\n",
       "  'value': '2E4C265EF92F5532E987748AF6B5AADB-m1.c1-shop10'}]"
      ]
     },
     "execution_count": 5,
     "metadata": {},
     "output_type": "execute_result"
    }
   ],
   "source": [
    "for c in data:\n",
    "    #print(c)\n",
    "    driver.add_cookie(c)\n",
    "driver.refresh()"
   ]
  },
  {
   "cell_type": "code",
   "execution_count": null,
   "metadata": {},
   "outputs": [],
   "source": []
  }
 ],
 "metadata": {
  "kernelspec": {
   "display_name": "Python 3",
   "language": "python",
   "name": "python3"
  },
  "language_info": {
   "codemirror_mode": {
    "name": "ipython",
    "version": 3
   },
   "file_extension": ".py",
   "mimetype": "text/x-python",
   "name": "python",
   "nbconvert_exporter": "python",
   "pygments_lexer": "ipython3",
   "version": "3.8.5"
  }
 },
 "nbformat": 4,
 "nbformat_minor": 4
}
